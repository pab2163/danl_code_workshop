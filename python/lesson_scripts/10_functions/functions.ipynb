{
 "cells": [
  {
   "cell_type": "markdown",
   "metadata": {},
   "source": [
    "# learning how to make you OWN functions in python\n",
    "\n",
    "\n",
    "## What is function?\n",
    "\n",
    "* y = 2x (a mathematical function)\n",
    "* a piece of code that does something (making some output), given some input\n",
    "* input x, output is y\n",
    "* in python/r we call inputs 'arguments' and output is 'returned'\n",
    "\n",
    "## Some functions we've seen before?\n",
    "* `pd.read_csv()`\n",
    "* in R, `lm()` is function \n",
    "\n",
    "\n",
    "## creating (defining) versus using (running functions)\n",
    "* When you initially make (define) the function, you won't see any output\n",
    "* You'll only see results when you RUN the function\n",
    "\n",
    "\n",
    "## how do you test a function?\n",
    "* Input something where you KNOW what the output should be, making sure that output shows up\n",
    "* ^this is called 'unit testing'"
   ]
  },
  {
   "cell_type": "markdown",
   "metadata": {},
   "source": [
    "# Define a function to print a greeting\n",
    "\n",
    "* Only a `return()` statement actually can be saved into a variable\n",
    "* `print()` is cosmetic -- we use it to SHOW us what is going on, but it doesn't save data"
   ]
  },
  {
   "cell_type": "code",
   "execution_count": 33,
   "metadata": {},
   "outputs": [],
   "source": [
    "# define\n",
    "def greet_person(name):\n",
    "    # everything indented happens IN the function.\n",
    "    #what the function does\n",
    "    \n",
    "    # return -- means OUTPUT the data\n",
    "    return(f'hi, {name}')"
   ]
  },
  {
   "cell_type": "code",
   "execution_count": 34,
   "metadata": {},
   "outputs": [],
   "source": [
    "# running\n",
    "my_greeting = greet_person(name = 'Maitri')"
   ]
  },
  {
   "cell_type": "code",
   "execution_count": 32,
   "metadata": {},
   "outputs": [
    {
     "data": {
      "text/plain": [
       "'hi, Maitri'"
      ]
     },
     "execution_count": 32,
     "metadata": {},
     "output_type": "execute_result"
    }
   ],
   "source": [
    "my_greeting"
   ]
  },
  {
   "cell_type": "code",
   "execution_count": 35,
   "metadata": {},
   "outputs": [
    {
     "data": {
      "text/plain": [
       "'hi, Nicole'"
      ]
     },
     "execution_count": 35,
     "metadata": {},
     "output_type": "execute_result"
    }
   ],
   "source": [
    "greet_person(name = 'Nicole')"
   ]
  },
  {
   "cell_type": "code",
   "execution_count": 37,
   "metadata": {},
   "outputs": [
    {
     "data": {
      "text/plain": [
       "'hi, [29, 293, 40]'"
      ]
     },
     "execution_count": 37,
     "metadata": {},
     "output_type": "execute_result"
    }
   ],
   "source": [
    "greet_person(name = [29, 293, 40])"
   ]
  },
  {
   "cell_type": "code",
   "execution_count": 53,
   "metadata": {},
   "outputs": [],
   "source": [
    "def multiply_numbers(a, b, f):\n",
    "    product = a*b*f\n",
    "    return(product)\n",
    "    # nothing happens return - this code is not run!\n",
    "    # return ENDS the function\n",
    "    print('hi')"
   ]
  },
  {
   "cell_type": "code",
   "execution_count": 54,
   "metadata": {},
   "outputs": [
    {
     "data": {
      "text/plain": [
       "-6.84"
      ]
     },
     "execution_count": 54,
     "metadata": {},
     "output_type": "execute_result"
    }
   ],
   "source": [
    "multiply_numbers(a=1,b =-3,f = 2.28)"
   ]
  },
  {
   "cell_type": "markdown",
   "metadata": {},
   "source": [
    "# Let's make a function to read in data into pandas"
   ]
  },
  {
   "cell_type": "code",
   "execution_count": 61,
   "metadata": {},
   "outputs": [],
   "source": [
    "import pandas as pd\n",
    "import glob"
   ]
  },
  {
   "cell_type": "code",
   "execution_count": 58,
   "metadata": {},
   "outputs": [],
   "source": [
    "def read_round(filepath):\n",
    "    df = pd.read_csv(filepath)\n",
    "    df = df.round(2)\n",
    "    return(df)"
   ]
  },
  {
   "cell_type": "code",
   "execution_count": 60,
   "metadata": {},
   "outputs": [
    {
     "data": {
      "text/html": [
       "<div>\n",
       "<style scoped>\n",
       "    .dataframe tbody tr th:only-of-type {\n",
       "        vertical-align: middle;\n",
       "    }\n",
       "\n",
       "    .dataframe tbody tr th {\n",
       "        vertical-align: top;\n",
       "    }\n",
       "\n",
       "    .dataframe thead th {\n",
       "        text-align: right;\n",
       "    }\n",
       "</style>\n",
       "<table border=\"1\" class=\"dataframe\">\n",
       "  <thead>\n",
       "    <tr style=\"text-align: right;\">\n",
       "      <th></th>\n",
       "      <th>subid</th>\n",
       "      <th>age</th>\n",
       "      <th>sex</th>\n",
       "      <th>anxiety</th>\n",
       "      <th>amygdala_reactivity</th>\n",
       "    </tr>\n",
       "  </thead>\n",
       "  <tbody>\n",
       "    <tr>\n",
       "      <th>0</th>\n",
       "      <td>810</td>\n",
       "      <td>18.91</td>\n",
       "      <td>1</td>\n",
       "      <td>12.06</td>\n",
       "      <td>0.2</td>\n",
       "    </tr>\n",
       "  </tbody>\n",
       "</table>\n",
       "</div>"
      ],
      "text/plain": [
       "   subid    age  sex  anxiety  amygdala_reactivity\n",
       "0    810  18.91    1    12.06                  0.2"
      ]
     },
     "execution_count": 60,
     "metadata": {},
     "output_type": "execute_result"
    }
   ],
   "source": [
    "# run the function\n",
    "read_round(filepath = '../../../data/fake_data/sub_810_raw.csv')"
   ]
  },
  {
   "cell_type": "code",
   "execution_count": 66,
   "metadata": {},
   "outputs": [],
   "source": [
    "# search for all of the files in the fake data folder using glob.glob\n",
    "path_list = glob.glob('../../../data/fake_data/*')"
   ]
  },
  {
   "cell_type": "code",
   "execution_count": 83,
   "metadata": {},
   "outputs": [
    {
     "data": {
      "text/plain": [
       "1000"
      ]
     },
     "execution_count": 83,
     "metadata": {},
     "output_type": "execute_result"
    }
   ],
   "source": [
    "len(path_list)"
   ]
  },
  {
   "cell_type": "code",
   "execution_count": 86,
   "metadata": {},
   "outputs": [
    {
     "data": {
      "text/plain": [
       "'../../../data/fake_data/sub_288_raw.csv'"
      ]
     },
     "execution_count": 86,
     "metadata": {},
     "output_type": "execute_result"
    }
   ],
   "source": [
    "path_list[999]"
   ]
  },
  {
   "cell_type": "code",
   "execution_count": 92,
   "metadata": {},
   "outputs": [
    {
     "data": {
      "text/html": [
       "<div>\n",
       "<style scoped>\n",
       "    .dataframe tbody tr th:only-of-type {\n",
       "        vertical-align: middle;\n",
       "    }\n",
       "\n",
       "    .dataframe tbody tr th {\n",
       "        vertical-align: top;\n",
       "    }\n",
       "\n",
       "    .dataframe thead th {\n",
       "        text-align: right;\n",
       "    }\n",
       "</style>\n",
       "<table border=\"1\" class=\"dataframe\">\n",
       "  <thead>\n",
       "    <tr style=\"text-align: right;\">\n",
       "      <th></th>\n",
       "      <th>subid</th>\n",
       "      <th>age</th>\n",
       "      <th>sex</th>\n",
       "      <th>anxiety</th>\n",
       "      <th>amygdala_reactivity</th>\n",
       "    </tr>\n",
       "  </thead>\n",
       "  <tbody>\n",
       "    <tr>\n",
       "      <th>0</th>\n",
       "      <td>397</td>\n",
       "      <td>14.49</td>\n",
       "      <td>0</td>\n",
       "      <td>10.0</td>\n",
       "      <td>0.61</td>\n",
       "    </tr>\n",
       "  </tbody>\n",
       "</table>\n",
       "</div>"
      ],
      "text/plain": [
       "   subid    age  sex  anxiety  amygdala_reactivity\n",
       "0    397  14.49    0     10.0                 0.61"
      ]
     },
     "execution_count": 92,
     "metadata": {},
     "output_type": "execute_result"
    }
   ],
   "source": [
    "# read round can only read 1 file at a time\n",
    "read_round(path_list[6])"
   ]
  },
  {
   "cell_type": "code",
   "execution_count": 93,
   "metadata": {},
   "outputs": [],
   "source": [
    "# read in all files, a list of dataframes\n",
    "def read_all_files(paths):\n",
    "    # make a blank list\n",
    "    df_list = []\n",
    "    \n",
    "    # use a LOOP to read in each file\n",
    "    # for filepath, read in the file, then add that dataframe to a list\n",
    "    for path in paths:\n",
    "        # each time we read in a dataframe, add to the list\n",
    "        df_list.append(read_round(path))\n",
    "        \n",
    "    return(df_list)"
   ]
  },
  {
   "cell_type": "code",
   "execution_count": 94,
   "metadata": {},
   "outputs": [],
   "source": [
    "a = read_all_files(path_list)"
   ]
  },
  {
   "cell_type": "code",
   "execution_count": 95,
   "metadata": {},
   "outputs": [
    {
     "data": {
      "text/plain": [
       "1000"
      ]
     },
     "execution_count": 95,
     "metadata": {},
     "output_type": "execute_result"
    }
   ],
   "source": [
    "# a is a LIST containing 1000 dataframes, 1 for each participant\n",
    "len(a)"
   ]
  },
  {
   "cell_type": "code",
   "execution_count": 81,
   "metadata": {},
   "outputs": [],
   "source": [
    "# combine dataframes from the whole list ('concatenating')\n",
    "# pd.concat takes a LIST of dataframes, and basically 'stacks them'\n",
    "merged_data = pd.concat(a)"
   ]
  },
  {
   "cell_type": "code",
   "execution_count": 82,
   "metadata": {},
   "outputs": [
    {
     "data": {
      "text/html": [
       "<div>\n",
       "<style scoped>\n",
       "    .dataframe tbody tr th:only-of-type {\n",
       "        vertical-align: middle;\n",
       "    }\n",
       "\n",
       "    .dataframe tbody tr th {\n",
       "        vertical-align: top;\n",
       "    }\n",
       "\n",
       "    .dataframe thead th {\n",
       "        text-align: right;\n",
       "    }\n",
       "</style>\n",
       "<table border=\"1\" class=\"dataframe\">\n",
       "  <thead>\n",
       "    <tr style=\"text-align: right;\">\n",
       "      <th></th>\n",
       "      <th>subid</th>\n",
       "      <th>age</th>\n",
       "      <th>sex</th>\n",
       "      <th>anxiety</th>\n",
       "      <th>amygdala_reactivity</th>\n",
       "    </tr>\n",
       "  </thead>\n",
       "  <tbody>\n",
       "    <tr>\n",
       "      <th>0</th>\n",
       "      <td>189</td>\n",
       "      <td>9.68</td>\n",
       "      <td>1</td>\n",
       "      <td>10.63</td>\n",
       "      <td>-0.68</td>\n",
       "    </tr>\n",
       "    <tr>\n",
       "      <th>0</th>\n",
       "      <td>810</td>\n",
       "      <td>18.91</td>\n",
       "      <td>1</td>\n",
       "      <td>12.06</td>\n",
       "      <td>0.20</td>\n",
       "    </tr>\n",
       "    <tr>\n",
       "      <th>0</th>\n",
       "      <td>968</td>\n",
       "      <td>15.68</td>\n",
       "      <td>1</td>\n",
       "      <td>12.61</td>\n",
       "      <td>-0.07</td>\n",
       "    </tr>\n",
       "    <tr>\n",
       "      <th>0</th>\n",
       "      <td>800</td>\n",
       "      <td>21.11</td>\n",
       "      <td>0</td>\n",
       "      <td>8.71</td>\n",
       "      <td>-0.93</td>\n",
       "    </tr>\n",
       "    <tr>\n",
       "      <th>0</th>\n",
       "      <td>199</td>\n",
       "      <td>11.92</td>\n",
       "      <td>0</td>\n",
       "      <td>11.04</td>\n",
       "      <td>0.28</td>\n",
       "    </tr>\n",
       "    <tr>\n",
       "      <th>...</th>\n",
       "      <td>...</td>\n",
       "      <td>...</td>\n",
       "      <td>...</td>\n",
       "      <td>...</td>\n",
       "      <td>...</td>\n",
       "    </tr>\n",
       "    <tr>\n",
       "      <th>0</th>\n",
       "      <td>157</td>\n",
       "      <td>18.34</td>\n",
       "      <td>1</td>\n",
       "      <td>11.27</td>\n",
       "      <td>-3.36</td>\n",
       "    </tr>\n",
       "    <tr>\n",
       "      <th>0</th>\n",
       "      <td>867</td>\n",
       "      <td>18.10</td>\n",
       "      <td>0</td>\n",
       "      <td>8.50</td>\n",
       "      <td>-0.46</td>\n",
       "    </tr>\n",
       "    <tr>\n",
       "      <th>0</th>\n",
       "      <td>877</td>\n",
       "      <td>6.77</td>\n",
       "      <td>0</td>\n",
       "      <td>13.10</td>\n",
       "      <td>0.79</td>\n",
       "    </tr>\n",
       "    <tr>\n",
       "      <th>0</th>\n",
       "      <td>298</td>\n",
       "      <td>16.33</td>\n",
       "      <td>0</td>\n",
       "      <td>9.53</td>\n",
       "      <td>1.60</td>\n",
       "    </tr>\n",
       "    <tr>\n",
       "      <th>0</th>\n",
       "      <td>288</td>\n",
       "      <td>20.13</td>\n",
       "      <td>1</td>\n",
       "      <td>13.75</td>\n",
       "      <td>1.17</td>\n",
       "    </tr>\n",
       "  </tbody>\n",
       "</table>\n",
       "<p>1000 rows × 5 columns</p>\n",
       "</div>"
      ],
      "text/plain": [
       "    subid    age  sex  anxiety  amygdala_reactivity\n",
       "0     189   9.68    1    10.63                -0.68\n",
       "0     810  18.91    1    12.06                 0.20\n",
       "0     968  15.68    1    12.61                -0.07\n",
       "0     800  21.11    0     8.71                -0.93\n",
       "0     199  11.92    0    11.04                 0.28\n",
       "..    ...    ...  ...      ...                  ...\n",
       "0     157  18.34    1    11.27                -3.36\n",
       "0     867  18.10    0     8.50                -0.46\n",
       "0     877   6.77    0    13.10                 0.79\n",
       "0     298  16.33    0     9.53                 1.60\n",
       "0     288  20.13    1    13.75                 1.17\n",
       "\n",
       "[1000 rows x 5 columns]"
      ]
     },
     "execution_count": 82,
     "metadata": {},
     "output_type": "execute_result"
    }
   ],
   "source": [
    "merged_data"
   ]
  },
  {
   "cell_type": "code",
   "execution_count": null,
   "metadata": {},
   "outputs": [],
   "source": []
  }
 ],
 "metadata": {
  "kernelspec": {
   "display_name": "Python 3",
   "language": "python",
   "name": "python3"
  },
  "language_info": {
   "codemirror_mode": {
    "name": "ipython",
    "version": 3
   },
   "file_extension": ".py",
   "mimetype": "text/x-python",
   "name": "python",
   "nbconvert_exporter": "python",
   "pygments_lexer": "ipython3",
   "version": "3.7.4"
  }
 },
 "nbformat": 4,
 "nbformat_minor": 2
}
