{
 "cells": [
  {
   "cell_type": "markdown",
   "metadata": {},
   "source": [
    "# Underfitting & Overfitting\n",
    "\n",
    "When we think about any statistical model\n",
    "\n",
    "### Underfitting (model that is too simple for the data):\n",
    "* When the model isn't fitting to a trend in the data\n",
    "* data points too far away from the model fit\n",
    "* the model MISSES a true relationship in the data\n",
    "* doesn't capture that actual trend\n",
    "* too much of a generalization, not specific enough to the data\n",
    "\n",
    "\n",
    "### Overfitting (model that is too complex for the data):\n",
    "* too specific to the data the MODEL IS FIT ON\n",
    "* considering the data it is given TOO MUCH\n",
    "* too easily biased by outliers\n",
    "* will SEEM to fit very very well on the data it is trained, but will FAIL to generalize on test data\n",
    "\n",
    "## Training vs. testing\n",
    "\n",
    "**training:** data the model sees, data we fit to\n",
    "\n",
    "**testing:** NEW data not used to fit the model (held out data, independent data)\n",
    "\n",
    "We NEED test data to examine how the model GENERALIZES "
   ]
  },
  {
   "cell_type": "markdown",
   "metadata": {},
   "source": [
    "# Import libraries"
   ]
  },
  {
   "cell_type": "code",
   "execution_count": 1,
   "metadata": {},
   "outputs": [],
   "source": [
    "import pandas as pd\n",
    "import numpy as np\n",
    "\n",
    "# sklearn is for modeling/regression/machine learning\n",
    "from sklearn import datasets, linear_model\n",
    "from sklearn.preprocessing import PolynomialFeatures\n",
    "from sklearn.metrics import r2_score\n",
    "\n",
    "# plotting library for today\n",
    "import matplotlib.pyplot as plt\n",
    "\n",
    "# make plots show up nicely right in the jupyter notebook\n",
    "%matplotlib inline"
   ]
  },
  {
   "cell_type": "code",
   "execution_count": 2,
   "metadata": {},
   "outputs": [],
   "source": [
    "#!pip install sklearn"
   ]
  },
  {
   "cell_type": "markdown",
   "metadata": {},
   "source": [
    "# Paul made these data himself\n",
    "\n",
    "There IS a true relationship between x and y -- Paul knows what it is\n",
    "\n",
    "We simulate the data, so we KNOW the correct answer\n",
    "* That way, we can know if a model is doing a good job\n"
   ]
  },
  {
   "cell_type": "code",
   "execution_count": 3,
   "metadata": {},
   "outputs": [],
   "source": [
    "df = pd.read_csv('sample_data.csv')"
   ]
  },
  {
   "cell_type": "code",
   "execution_count": 4,
   "metadata": {},
   "outputs": [],
   "source": [
    "#df.y[3] = -400"
   ]
  },
  {
   "cell_type": "code",
   "execution_count": 5,
   "metadata": {},
   "outputs": [
    {
     "data": {
      "text/plain": [
       "<matplotlib.collections.PathCollection at 0x123c53f50>"
      ]
     },
     "execution_count": 5,
     "metadata": {},
     "output_type": "execute_result"
    },
    {
     "data": {
      "image/png": "[encoded data removed]",
      "text/plain": [
       "<Figure size 432x288 with 1 Axes>"
      ]
     },
     "metadata": {
      "needs_background": "light"
     },
     "output_type": "display_data"
    }
   ],
   "source": [
    "plt.scatter(df.x, df.y, color = 'black')"
   ]
  },
  {
   "cell_type": "markdown",
   "metadata": {},
   "source": [
    "# Fit a linear regression model in sklearn and generate predictions\n",
    "\n",
    "Fit a straight line through the data -- find the best linear relationship"
   ]
  },
  {
   "cell_type": "code",
   "execution_count": 6,
   "metadata": {},
   "outputs": [],
   "source": [
    "# in python, we specify *predictors* and *outcomes* separately\n",
    "\n",
    "# we usually call the predictor X (this is a matrix)\n",
    "X = df.drop(columns = 'y')\n",
    "\n",
    "# we usually call the outcome y\n",
    "y = df.y"
   ]
  },
  {
   "cell_type": "code",
   "execution_count": 7,
   "metadata": {},
   "outputs": [],
   "source": [
    "# set up a 'linear regression object'\n",
    "reg1 = linear_model.LinearRegression()\n",
    "\n",
    "# now FIT the linear regression model\n",
    "model1 = reg1.fit(X, y)\n",
    "\n",
    "# generate predictions for every x-value from the regression model\n",
    "model1_preds = reg1.predict(X)"
   ]
  },
  {
   "cell_type": "code",
   "execution_count": 8,
   "metadata": {},
   "outputs": [
    {
     "data": {
      "text/plain": [
       "array([10.42971047, 10.46011292, 10.49051537, 10.52091782, 10.55132027,\n",
       "       10.58172272, 10.61212517, 10.64252762, 10.67293007, 10.70333252,\n",
       "       10.73373498, 10.76413743, 10.79453988, 10.82494233, 10.85534478,\n",
       "       10.88574723, 10.91614968, 10.94655213, 10.97695458, 11.00735703,\n",
       "       11.03775948, 11.06816193, 11.09856438, 11.12896683, 11.15936928,\n",
       "       11.18977173, 11.22017418, 11.25057663, 11.28097909, 11.31138154,\n",
       "       11.34178399, 11.37218644, 11.40258889, 11.43299134, 11.46339379,\n",
       "       11.49379624, 11.52419869, 11.55460114, 11.58500359, 11.61540604,\n",
       "       11.64580849, 11.67621094, 11.70661339, 11.73701584, 11.76741829,\n",
       "       11.79782075, 11.8282232 , 11.85862565, 11.8890281 , 11.91943055,\n",
       "       11.949833  , 11.98023545, 12.0106379 , 12.04104035, 12.0714428 ,\n",
       "       12.10184525, 12.1322477 , 12.16265015, 12.1930526 , 12.22345505,\n",
       "       12.2538575 , 12.28425995, 12.3146624 , 12.34506486, 12.37546731,\n",
       "       12.40586976, 12.43627221, 12.46667466, 12.49707711, 12.52747956,\n",
       "       12.55788201, 12.58828446, 12.61868691, 12.64908936, 12.67949181,\n",
       "       12.70989426, 12.74029671, 12.77069916, 12.80110161, 12.83150406,\n",
       "       12.86190652, 12.89230897, 12.92271142, 12.95311387, 12.98351632,\n",
       "       13.01391877, 13.04432122, 13.07472367, 13.10512612, 13.13552857,\n",
       "       13.16593102, 13.19633347, 13.22673592, 13.25713837, 13.28754082,\n",
       "       13.31794327, 13.34834572, 13.37874817, 13.40915063, 13.43955308,\n",
       "       13.46995553, 13.50035798, 13.53076043, 13.56116288, 13.59156533,\n",
       "       13.62196778, 13.65237023, 13.68277268, 13.71317513, 13.74357758,\n",
       "       13.77398003, 13.80438248, 13.83478493, 13.86518738, 13.89558983,\n",
       "       13.92599229, 13.95639474, 13.98679719, 14.01719964, 14.04760209,\n",
       "       14.07800454, 14.10840699, 14.13880944, 14.16921189, 14.19961434,\n",
       "       14.23001679, 14.26041924, 14.29082169, 14.32122414, 14.35162659,\n",
       "       14.38202904, 14.41243149, 14.44283394, 14.4732364 , 14.50363885,\n",
       "       14.5340413 , 14.56444375, 14.5948462 , 14.62524865, 14.6556511 ,\n",
       "       14.68605355, 14.716456  , 14.74685845, 14.7772609 , 14.80766335,\n",
       "       14.8380658 , 14.86846825, 14.8988707 , 14.92927315, 14.9596756 ,\n",
       "       14.99007806, 15.02048051, 15.05088296, 15.08128541, 15.11168786,\n",
       "       15.14209031, 15.17249276, 15.20289521, 15.23329766, 15.26370011,\n",
       "       15.29410256, 15.32450501, 15.35490746, 15.38530991, 15.41571236,\n",
       "       15.44611481, 15.47651726, 15.50691971, 15.53732217, 15.56772462,\n",
       "       15.59812707, 15.62852952, 15.65893197, 15.68933442, 15.71973687,\n",
       "       15.75013932, 15.78054177, 15.81094422, 15.84134667, 15.87174912,\n",
       "       15.90215157, 15.93255402, 15.96295647, 15.99335892, 16.02376137,\n",
       "       16.05416382, 16.08456628, 16.11496873, 16.14537118, 16.17577363,\n",
       "       16.20617608, 16.23657853, 16.26698098, 16.29738343, 16.32778588,\n",
       "       16.35818833, 16.38859078, 16.41899323, 16.44939568, 16.47979813])"
      ]
     },
     "execution_count": 8,
     "metadata": {},
     "output_type": "execute_result"
    }
   ],
   "source": [
    "model1_preds"
   ]
  },
  {
   "cell_type": "code",
   "execution_count": 9,
   "metadata": {},
   "outputs": [
    {
     "data": {
      "text/plain": [
       "[<matplotlib.lines.Line2D at 0x123a7cad0>]"
      ]
     },
     "execution_count": 9,
     "metadata": {},
     "output_type": "execute_result"
    },
    {
     "data": {
      "image/png": "[encoded data removed]",
      "text/plain": [
       "<Figure size 432x288 with 1 Axes>"
      ]
     },
     "metadata": {
      "needs_background": "light"
     },
     "output_type": "display_data"
    }
   ],
   "source": [
    "plt.scatter(df.x, df.y, color = 'black')\n",
    "plt.plot(df.x, model1_preds, color = 'blue')"
   ]
  },
  {
   "cell_type": "markdown",
   "metadata": {},
   "source": [
    "# R2 score\n",
    "\n",
    "How well is the model predicting the y-values?\n",
    "\n",
    "R2 goes from 0 (not predicting anything of use) -- 1 (perfectly predicting  the data)"
   ]
  },
  {
   "cell_type": "code",
   "execution_count": 10,
   "metadata": {},
   "outputs": [
    {
     "data": {
      "text/plain": [
       "0.012288780577046188"
      ]
     },
     "execution_count": 10,
     "metadata": {},
     "output_type": "execute_result"
    }
   ],
   "source": [
    "r2_score(df.y, model1_preds)"
   ]
  },
  {
   "cell_type": "markdown",
   "metadata": {},
   "source": [
    "# Let's make a model that is quadratic\n",
    "\n",
    "a term for x^2"
   ]
  },
  {
   "cell_type": "code",
   "execution_count": 11,
   "metadata": {},
   "outputs": [],
   "source": [
    "poly = PolynomialFeatures(2)\n",
    "X_2 = poly.fit_transform(X)"
   ]
  },
  {
   "cell_type": "code",
   "execution_count": 12,
   "metadata": {},
   "outputs": [
    {
     "data": {
      "text/plain": [
       "array([[ 1.00000000e+00, -2.00000000e+01,  4.00000000e+02],\n",
       "       [ 1.00000000e+00, -1.98000000e+01,  3.92040000e+02],\n",
       "       [ 1.00000000e+00, -1.96000000e+01,  3.84160000e+02],\n",
       "       [ 1.00000000e+00, -1.94000000e+01,  3.76360000e+02],\n",
       "       [ 1.00000000e+00, -1.92000000e+01,  3.68640000e+02],\n",
       "       [ 1.00000000e+00, -1.90000000e+01,  3.61000000e+02],\n",
       "       [ 1.00000000e+00, -1.88000000e+01,  3.53440000e+02],\n",
       "       [ 1.00000000e+00, -1.86000000e+01,  3.45960000e+02],\n",
       "       [ 1.00000000e+00, -1.84000000e+01,  3.38560000e+02],\n",
       "       [ 1.00000000e+00, -1.82000000e+01,  3.31240000e+02],\n",
       "       [ 1.00000000e+00, -1.80000000e+01,  3.24000000e+02],\n",
       "       [ 1.00000000e+00, -1.78000000e+01,  3.16840000e+02],\n",
       "       [ 1.00000000e+00, -1.76000000e+01,  3.09760000e+02],\n",
       "       [ 1.00000000e+00, -1.74000000e+01,  3.02760000e+02],\n",
       "       [ 1.00000000e+00, -1.72000000e+01,  2.95840000e+02],\n",
       "       [ 1.00000000e+00, -1.70000000e+01,  2.89000000e+02],\n",
       "       [ 1.00000000e+00, -1.68000000e+01,  2.82240000e+02],\n",
       "       [ 1.00000000e+00, -1.66000000e+01,  2.75560000e+02],\n",
       "       [ 1.00000000e+00, -1.64000000e+01,  2.68960000e+02],\n",
       "       [ 1.00000000e+00, -1.62000000e+01,  2.62440000e+02],\n",
       "       [ 1.00000000e+00, -1.60000000e+01,  2.56000000e+02],\n",
       "       [ 1.00000000e+00, -1.58000000e+01,  2.49640000e+02],\n",
       "       [ 1.00000000e+00, -1.56000000e+01,  2.43360000e+02],\n",
       "       [ 1.00000000e+00, -1.54000000e+01,  2.37160000e+02],\n",
       "       [ 1.00000000e+00, -1.52000000e+01,  2.31040000e+02],\n",
       "       [ 1.00000000e+00, -1.50000000e+01,  2.25000000e+02],\n",
       "       [ 1.00000000e+00, -1.48000000e+01,  2.19040000e+02],\n",
       "       [ 1.00000000e+00, -1.46000000e+01,  2.13160000e+02],\n",
       "       [ 1.00000000e+00, -1.44000000e+01,  2.07360000e+02],\n",
       "       [ 1.00000000e+00, -1.42000000e+01,  2.01640000e+02],\n",
       "       [ 1.00000000e+00, -1.40000000e+01,  1.96000000e+02],\n",
       "       [ 1.00000000e+00, -1.38000000e+01,  1.90440000e+02],\n",
       "       [ 1.00000000e+00, -1.36000000e+01,  1.84960000e+02],\n",
       "       [ 1.00000000e+00, -1.34000000e+01,  1.79560000e+02],\n",
       "       [ 1.00000000e+00, -1.32000000e+01,  1.74240000e+02],\n",
       "       [ 1.00000000e+00, -1.30000000e+01,  1.69000000e+02],\n",
       "       [ 1.00000000e+00, -1.28000000e+01,  1.63840000e+02],\n",
       "       [ 1.00000000e+00, -1.26000000e+01,  1.58760000e+02],\n",
       "       [ 1.00000000e+00, -1.24000000e+01,  1.53760000e+02],\n",
       "       [ 1.00000000e+00, -1.22000000e+01,  1.48840000e+02],\n",
       "       [ 1.00000000e+00, -1.20000000e+01,  1.44000000e+02],\n",
       "       [ 1.00000000e+00, -1.18000000e+01,  1.39240000e+02],\n",
       "       [ 1.00000000e+00, -1.16000000e+01,  1.34560000e+02],\n",
       "       [ 1.00000000e+00, -1.14000000e+01,  1.29960000e+02],\n",
       "       [ 1.00000000e+00, -1.12000000e+01,  1.25440000e+02],\n",
       "       [ 1.00000000e+00, -1.10000000e+01,  1.21000000e+02],\n",
       "       [ 1.00000000e+00, -1.08000000e+01,  1.16640000e+02],\n",
       "       [ 1.00000000e+00, -1.06000000e+01,  1.12360000e+02],\n",
       "       [ 1.00000000e+00, -1.04000000e+01,  1.08160000e+02],\n",
       "       [ 1.00000000e+00, -1.02000000e+01,  1.04040000e+02],\n",
       "       [ 1.00000000e+00, -1.00000000e+01,  1.00000000e+02],\n",
       "       [ 1.00000000e+00, -9.80000000e+00,  9.60400000e+01],\n",
       "       [ 1.00000000e+00, -9.60000000e+00,  9.21600000e+01],\n",
       "       [ 1.00000000e+00, -9.40000000e+00,  8.83600000e+01],\n",
       "       [ 1.00000000e+00, -9.20000000e+00,  8.46400000e+01],\n",
       "       [ 1.00000000e+00, -9.00000000e+00,  8.10000000e+01],\n",
       "       [ 1.00000000e+00, -8.80000000e+00,  7.74400000e+01],\n",
       "       [ 1.00000000e+00, -8.60000000e+00,  7.39600000e+01],\n",
       "       [ 1.00000000e+00, -8.40000000e+00,  7.05600000e+01],\n",
       "       [ 1.00000000e+00, -8.20000000e+00,  6.72400000e+01],\n",
       "       [ 1.00000000e+00, -8.00000000e+00,  6.40000000e+01],\n",
       "       [ 1.00000000e+00, -7.80000000e+00,  6.08400000e+01],\n",
       "       [ 1.00000000e+00, -7.60000000e+00,  5.77600000e+01],\n",
       "       [ 1.00000000e+00, -7.40000000e+00,  5.47600000e+01],\n",
       "       [ 1.00000000e+00, -7.20000000e+00,  5.18400000e+01],\n",
       "       [ 1.00000000e+00, -7.00000000e+00,  4.90000000e+01],\n",
       "       [ 1.00000000e+00, -6.80000000e+00,  4.62400000e+01],\n",
       "       [ 1.00000000e+00, -6.60000000e+00,  4.35600000e+01],\n",
       "       [ 1.00000000e+00, -6.40000000e+00,  4.09600000e+01],\n",
       "       [ 1.00000000e+00, -6.20000000e+00,  3.84400000e+01],\n",
       "       [ 1.00000000e+00, -6.00000000e+00,  3.60000000e+01],\n",
       "       [ 1.00000000e+00, -5.80000000e+00,  3.36400000e+01],\n",
       "       [ 1.00000000e+00, -5.60000000e+00,  3.13600000e+01],\n",
       "       [ 1.00000000e+00, -5.40000000e+00,  2.91600000e+01],\n",
       "       [ 1.00000000e+00, -5.20000000e+00,  2.70400000e+01],\n",
       "       [ 1.00000000e+00, -5.00000000e+00,  2.50000000e+01],\n",
       "       [ 1.00000000e+00, -4.80000000e+00,  2.30400000e+01],\n",
       "       [ 1.00000000e+00, -4.60000000e+00,  2.11600000e+01],\n",
       "       [ 1.00000000e+00, -4.40000000e+00,  1.93600000e+01],\n",
       "       [ 1.00000000e+00, -4.20000000e+00,  1.76400000e+01],\n",
       "       [ 1.00000000e+00, -4.00000000e+00,  1.60000000e+01],\n",
       "       [ 1.00000000e+00, -3.80000000e+00,  1.44400000e+01],\n",
       "       [ 1.00000000e+00, -3.60000000e+00,  1.29600000e+01],\n",
       "       [ 1.00000000e+00, -3.40000000e+00,  1.15600000e+01],\n",
       "       [ 1.00000000e+00, -3.20000000e+00,  1.02400000e+01],\n",
       "       [ 1.00000000e+00, -3.00000000e+00,  9.00000000e+00],\n",
       "       [ 1.00000000e+00, -2.80000000e+00,  7.84000000e+00],\n",
       "       [ 1.00000000e+00, -2.60000000e+00,  6.76000000e+00],\n",
       "       [ 1.00000000e+00, -2.40000000e+00,  5.76000000e+00],\n",
       "       [ 1.00000000e+00, -2.20000000e+00,  4.84000000e+00],\n",
       "       [ 1.00000000e+00, -2.00000000e+00,  4.00000000e+00],\n",
       "       [ 1.00000000e+00, -1.80000000e+00,  3.24000000e+00],\n",
       "       [ 1.00000000e+00, -1.60000000e+00,  2.56000000e+00],\n",
       "       [ 1.00000000e+00, -1.40000000e+00,  1.96000000e+00],\n",
       "       [ 1.00000000e+00, -1.20000000e+00,  1.44000000e+00],\n",
       "       [ 1.00000000e+00, -1.00000000e+00,  1.00000000e+00],\n",
       "       [ 1.00000000e+00, -8.00000000e-01,  6.40000000e-01],\n",
       "       [ 1.00000000e+00, -6.00000000e-01,  3.60000000e-01],\n",
       "       [ 1.00000000e+00, -4.00000000e-01,  1.60000000e-01],\n",
       "       [ 1.00000000e+00, -2.00000000e-01,  4.00000000e-02],\n",
       "       [ 1.00000000e+00, -7.10542736e-14,  5.04870979e-27],\n",
       "       [ 1.00000000e+00,  2.00000000e-01,  4.00000000e-02],\n",
       "       [ 1.00000000e+00,  4.00000000e-01,  1.60000000e-01],\n",
       "       [ 1.00000000e+00,  6.00000000e-01,  3.60000000e-01],\n",
       "       [ 1.00000000e+00,  8.00000000e-01,  6.40000000e-01],\n",
       "       [ 1.00000000e+00,  1.00000000e+00,  1.00000000e+00],\n",
       "       [ 1.00000000e+00,  1.20000000e+00,  1.44000000e+00],\n",
       "       [ 1.00000000e+00,  1.40000000e+00,  1.96000000e+00],\n",
       "       [ 1.00000000e+00,  1.60000000e+00,  2.56000000e+00],\n",
       "       [ 1.00000000e+00,  1.80000000e+00,  3.24000000e+00],\n",
       "       [ 1.00000000e+00,  2.00000000e+00,  4.00000000e+00],\n",
       "       [ 1.00000000e+00,  2.20000000e+00,  4.84000000e+00],\n",
       "       [ 1.00000000e+00,  2.40000000e+00,  5.76000000e+00],\n",
       "       [ 1.00000000e+00,  2.60000000e+00,  6.76000000e+00],\n",
       "       [ 1.00000000e+00,  2.80000000e+00,  7.84000000e+00],\n",
       "       [ 1.00000000e+00,  3.00000000e+00,  9.00000000e+00],\n",
       "       [ 1.00000000e+00,  3.20000000e+00,  1.02400000e+01],\n",
       "       [ 1.00000000e+00,  3.40000000e+00,  1.15600000e+01],\n",
       "       [ 1.00000000e+00,  3.60000000e+00,  1.29600000e+01],\n",
       "       [ 1.00000000e+00,  3.80000000e+00,  1.44400000e+01],\n",
       "       [ 1.00000000e+00,  4.00000000e+00,  1.60000000e+01],\n",
       "       [ 1.00000000e+00,  4.20000000e+00,  1.76400000e+01],\n",
       "       [ 1.00000000e+00,  4.40000000e+00,  1.93600000e+01],\n",
       "       [ 1.00000000e+00,  4.60000000e+00,  2.11600000e+01],\n",
       "       [ 1.00000000e+00,  4.80000000e+00,  2.30400000e+01],\n",
       "       [ 1.00000000e+00,  5.00000000e+00,  2.50000000e+01],\n",
       "       [ 1.00000000e+00,  5.20000000e+00,  2.70400000e+01],\n",
       "       [ 1.00000000e+00,  5.40000000e+00,  2.91600000e+01],\n",
       "       [ 1.00000000e+00,  5.60000000e+00,  3.13600000e+01],\n",
       "       [ 1.00000000e+00,  5.80000000e+00,  3.36400000e+01],\n",
       "       [ 1.00000000e+00,  6.00000000e+00,  3.60000000e+01],\n",
       "       [ 1.00000000e+00,  6.20000000e+00,  3.84400000e+01],\n",
       "       [ 1.00000000e+00,  6.40000000e+00,  4.09600000e+01],\n",
       "       [ 1.00000000e+00,  6.60000000e+00,  4.35600000e+01],\n",
       "       [ 1.00000000e+00,  6.80000000e+00,  4.62400000e+01],\n",
       "       [ 1.00000000e+00,  7.00000000e+00,  4.90000000e+01],\n",
       "       [ 1.00000000e+00,  7.20000000e+00,  5.18400000e+01],\n",
       "       [ 1.00000000e+00,  7.40000000e+00,  5.47600000e+01],\n",
       "       [ 1.00000000e+00,  7.60000000e+00,  5.77600000e+01],\n",
       "       [ 1.00000000e+00,  7.80000000e+00,  6.08400000e+01],\n",
       "       [ 1.00000000e+00,  8.00000000e+00,  6.40000000e+01],\n",
       "       [ 1.00000000e+00,  8.20000000e+00,  6.72400000e+01],\n",
       "       [ 1.00000000e+00,  8.40000000e+00,  7.05600000e+01],\n",
       "       [ 1.00000000e+00,  8.60000000e+00,  7.39600000e+01],\n",
       "       [ 1.00000000e+00,  8.80000000e+00,  7.74400000e+01],\n",
       "       [ 1.00000000e+00,  9.00000000e+00,  8.10000000e+01],\n",
       "       [ 1.00000000e+00,  9.20000000e+00,  8.46400000e+01],\n",
       "       [ 1.00000000e+00,  9.40000000e+00,  8.83600000e+01],\n",
       "       [ 1.00000000e+00,  9.60000000e+00,  9.21600000e+01],\n",
       "       [ 1.00000000e+00,  9.80000000e+00,  9.60400000e+01],\n",
       "       [ 1.00000000e+00,  1.00000000e+01,  1.00000000e+02],\n",
       "       [ 1.00000000e+00,  1.02000000e+01,  1.04040000e+02],\n",
       "       [ 1.00000000e+00,  1.04000000e+01,  1.08160000e+02],\n",
       "       [ 1.00000000e+00,  1.06000000e+01,  1.12360000e+02],\n",
       "       [ 1.00000000e+00,  1.08000000e+01,  1.16640000e+02],\n",
       "       [ 1.00000000e+00,  1.10000000e+01,  1.21000000e+02],\n",
       "       [ 1.00000000e+00,  1.12000000e+01,  1.25440000e+02],\n",
       "       [ 1.00000000e+00,  1.14000000e+01,  1.29960000e+02],\n",
       "       [ 1.00000000e+00,  1.16000000e+01,  1.34560000e+02],\n",
       "       [ 1.00000000e+00,  1.18000000e+01,  1.39240000e+02],\n",
       "       [ 1.00000000e+00,  1.20000000e+01,  1.44000000e+02],\n",
       "       [ 1.00000000e+00,  1.22000000e+01,  1.48840000e+02],\n",
       "       [ 1.00000000e+00,  1.24000000e+01,  1.53760000e+02],\n",
       "       [ 1.00000000e+00,  1.26000000e+01,  1.58760000e+02],\n",
       "       [ 1.00000000e+00,  1.28000000e+01,  1.63840000e+02],\n",
       "       [ 1.00000000e+00,  1.30000000e+01,  1.69000000e+02],\n",
       "       [ 1.00000000e+00,  1.32000000e+01,  1.74240000e+02],\n",
       "       [ 1.00000000e+00,  1.34000000e+01,  1.79560000e+02],\n",
       "       [ 1.00000000e+00,  1.36000000e+01,  1.84960000e+02],\n",
       "       [ 1.00000000e+00,  1.38000000e+01,  1.90440000e+02],\n",
       "       [ 1.00000000e+00,  1.40000000e+01,  1.96000000e+02],\n",
       "       [ 1.00000000e+00,  1.42000000e+01,  2.01640000e+02],\n",
       "       [ 1.00000000e+00,  1.44000000e+01,  2.07360000e+02],\n",
       "       [ 1.00000000e+00,  1.46000000e+01,  2.13160000e+02],\n",
       "       [ 1.00000000e+00,  1.48000000e+01,  2.19040000e+02],\n",
       "       [ 1.00000000e+00,  1.50000000e+01,  2.25000000e+02],\n",
       "       [ 1.00000000e+00,  1.52000000e+01,  2.31040000e+02],\n",
       "       [ 1.00000000e+00,  1.54000000e+01,  2.37160000e+02],\n",
       "       [ 1.00000000e+00,  1.56000000e+01,  2.43360000e+02],\n",
       "       [ 1.00000000e+00,  1.58000000e+01,  2.49640000e+02],\n",
       "       [ 1.00000000e+00,  1.60000000e+01,  2.56000000e+02],\n",
       "       [ 1.00000000e+00,  1.62000000e+01,  2.62440000e+02],\n",
       "       [ 1.00000000e+00,  1.64000000e+01,  2.68960000e+02],\n",
       "       [ 1.00000000e+00,  1.66000000e+01,  2.75560000e+02],\n",
       "       [ 1.00000000e+00,  1.68000000e+01,  2.82240000e+02],\n",
       "       [ 1.00000000e+00,  1.70000000e+01,  2.89000000e+02],\n",
       "       [ 1.00000000e+00,  1.72000000e+01,  2.95840000e+02],\n",
       "       [ 1.00000000e+00,  1.74000000e+01,  3.02760000e+02],\n",
       "       [ 1.00000000e+00,  1.76000000e+01,  3.09760000e+02],\n",
       "       [ 1.00000000e+00,  1.78000000e+01,  3.16840000e+02],\n",
       "       [ 1.00000000e+00,  1.80000000e+01,  3.24000000e+02],\n",
       "       [ 1.00000000e+00,  1.82000000e+01,  3.31240000e+02],\n",
       "       [ 1.00000000e+00,  1.84000000e+01,  3.38560000e+02],\n",
       "       [ 1.00000000e+00,  1.86000000e+01,  3.45960000e+02],\n",
       "       [ 1.00000000e+00,  1.88000000e+01,  3.53440000e+02],\n",
       "       [ 1.00000000e+00,  1.90000000e+01,  3.61000000e+02],\n",
       "       [ 1.00000000e+00,  1.92000000e+01,  3.68640000e+02],\n",
       "       [ 1.00000000e+00,  1.94000000e+01,  3.76360000e+02],\n",
       "       [ 1.00000000e+00,  1.96000000e+01,  3.84160000e+02],\n",
       "       [ 1.00000000e+00,  1.98000000e+01,  3.92040000e+02]])"
      ]
     },
     "execution_count": 12,
     "metadata": {},
     "output_type": "execute_result"
    }
   ],
   "source": [
    "X_2"
   ]
  },
  {
   "cell_type": "code",
   "execution_count": 13,
   "metadata": {},
   "outputs": [],
   "source": [
    "# set up a 'linear regression object'\n",
    "reg2 = linear_model.LinearRegression()\n",
    "\n",
    "# now FIT the linear regression model\n",
    "model2 = reg2.fit(X_2, y)\n",
    "\n",
    "# generate predictions for every x-value from the regression model\n",
    "model2_preds = reg2.predict(X_2)"
   ]
  },
  {
   "cell_type": "code",
   "execution_count": 14,
   "metadata": {},
   "outputs": [
    {
     "data": {
      "text/plain": [
       "[<matplotlib.lines.Line2D at 0x12458cc90>]"
      ]
     },
     "execution_count": 14,
     "metadata": {},
     "output_type": "execute_result"
    },
    {
     "data": {
      "image/png": "[encoded data removed]",
      "text/plain": [
       "<Figure size 432x288 with 1 Axes>"
      ]
     },
     "metadata": {
      "needs_background": "light"
     },
     "output_type": "display_data"
    }
   ],
   "source": [
    "plt.scatter(df.x, df.y, color = 'black')\n",
    "plt.plot(df.x, model1_preds, color = 'blue')\n",
    "plt.plot(df.x, model2_preds, color = 'red')"
   ]
  },
  {
   "cell_type": "code",
   "execution_count": 15,
   "metadata": {},
   "outputs": [
    {
     "data": {
      "text/plain": [
       "0.6140052651128557"
      ]
     },
     "execution_count": 15,
     "metadata": {},
     "output_type": "execute_result"
    }
   ],
   "source": [
    "r2_score(df.y, model2_preds)"
   ]
  },
  {
   "cell_type": "markdown",
   "metadata": {},
   "source": [
    "# MORE polynomial terms"
   ]
  },
  {
   "cell_type": "code",
   "execution_count": 16,
   "metadata": {},
   "outputs": [],
   "source": [
    "poly = PolynomialFeatures(50)\n",
    "X_big = poly.fit_transform(X)\n",
    "# set up a 'linear regression object'\n",
    "reg_big = linear_model.LinearRegression()\n",
    "\n",
    "# now FIT the linear regression model\n",
    "model_big = reg_big.fit(X_big, y)\n",
    "\n",
    "# generate predictions for every x-value from the regression model\n",
    "model_big_preds = reg_big.predict(X_big)"
   ]
  },
  {
   "cell_type": "code",
   "execution_count": 17,
   "metadata": {},
   "outputs": [
    {
     "data": {
      "text/plain": [
       "[<matplotlib.lines.Line2D at 0x12668d490>]"
      ]
     },
     "execution_count": 17,
     "metadata": {},
     "output_type": "execute_result"
    },
    {
     "data": {
      "image/png": "[encoded data removed]",
      "text/plain": [
       "<Figure size 432x288 with 1 Axes>"
      ]
     },
     "metadata": {
      "needs_background": "light"
     },
     "output_type": "display_data"
    }
   ],
   "source": [
    "plt.scatter(df.x, df.y, color = 'black')\n",
    "plt.plot(df.x, model1_preds, color = 'blue')\n",
    "plt.plot(df.x, model2_preds, color = 'red')\n",
    "plt.plot(df.x, model_big_preds, color = 'green', linewidth = 4)"
   ]
  },
  {
   "cell_type": "code",
   "execution_count": 18,
   "metadata": {},
   "outputs": [
    {
     "data": {
      "text/plain": [
       "0.38064284019779204"
      ]
     },
     "execution_count": 18,
     "metadata": {},
     "output_type": "execute_result"
    }
   ],
   "source": [
    "r2_score(df.y, model_big_preds)"
   ]
  },
  {
   "cell_type": "code",
   "execution_count": null,
   "metadata": {},
   "outputs": [],
   "source": [
    "df['y'] = np.random.normal(df.x*.2+ .1*(df.x)**2, scale = 10)"
   ]
  }
 ],
 "metadata": {
  "kernelspec": {
   "display_name": "Python 3",
   "language": "python",
   "name": "python3"
  },
  "language_info": {
   "codemirror_mode": {
    "name": "ipython",
    "version": 3
   },
   "file_extension": ".py",
   "mimetype": "text/x-python",
   "name": "python",
   "nbconvert_exporter": "python",
   "pygments_lexer": "ipython3",
   "version": "3.7.4"
  }
 },
 "nbformat": 4,
 "nbformat_minor": 4
}
