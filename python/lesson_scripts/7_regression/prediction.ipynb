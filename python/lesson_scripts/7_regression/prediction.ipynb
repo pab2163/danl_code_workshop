{
 "cells": [
  {
   "cell_type": "markdown",
   "metadata": {},
   "source": [
    "# Prediction Modeling\n",
    "\n",
    "1. Fit a model to sample_data.csv\n",
    "2. See how well the model *predicts* in sample2_data\n",
    "\n",
    "\n",
    "See how accurate the model predictions are! Does it generalize?\n",
    "\n",
    "**Forecasting**"
   ]
  },
  {
   "cell_type": "code",
   "execution_count": 1,
   "metadata": {},
   "outputs": [],
   "source": [
    "import pandas as pd\n",
    "import numpy as np\n",
    "\n",
    "# sklearn is for modeling/regression/machine learning\n",
    "from sklearn import datasets, linear_model\n",
    "from sklearn.preprocessing import PolynomialFeatures\n",
    "from sklearn.metrics import r2_score\n",
    "\n",
    "# plotting library for today\n",
    "import matplotlib.pyplot as plt\n",
    "\n",
    "# make plots show up nicely right in the jupyter notebook\n",
    "%matplotlib inline"
   ]
  },
  {
   "cell_type": "markdown",
   "metadata": {},
   "source": [
    "## Import datasets"
   ]
  },
  {
   "cell_type": "code",
   "execution_count": 2,
   "metadata": {},
   "outputs": [],
   "source": [
    "train = pd.read_csv('sample_data.csv')\n",
    "test = pd.read_csv('sample2_data.csv')"
   ]
  },
  {
   "cell_type": "code",
   "execution_count": 3,
   "metadata": {},
   "outputs": [],
   "source": [
    "# rename columns\n",
    "train.rename(columns = {'x':'age', 'y': 'brain_volume'}, inplace = True)\n",
    "test.rename(columns = {'x':'age', 'y': 'brain_volume'}, inplace = True)\n",
    "#train.brain_volume[3] = -50"
   ]
  },
  {
   "cell_type": "code",
   "execution_count": 4,
   "metadata": {},
   "outputs": [
    {
     "data": {
      "text/plain": [
       "<matplotlib.collections.PathCollection at 0x123eae550>"
      ]
     },
     "execution_count": 4,
     "metadata": {},
     "output_type": "execute_result"
    },
    {
     "data": {
      "image/png": "[encoded data removed]",
      "text/plain": [
       "<Figure size 432x288 with 1 Axes>"
      ]
     },
     "metadata": {
      "needs_background": "light"
     },
     "output_type": "display_data"
    }
   ],
   "source": [
    "plt.scatter(train.age, train.brain_volume, color = 'black')"
   ]
  },
  {
   "cell_type": "markdown",
   "metadata": {},
   "source": [
    "## Use age to predict brain volume!\n",
    "\n",
    "* X - a matrix, expects 2d data\n",
    "* y - a vector, expects 1d data"
   ]
  },
  {
   "cell_type": "code",
   "execution_count": 5,
   "metadata": {},
   "outputs": [],
   "source": [
    "# in python, we specify *predictors* and *outcomes* separately\n",
    "\n",
    "# we usually call the predictor X (this is a matrix)\n",
    "X = train[['age']]\n",
    "\n",
    "# we usually call the outcome y\n",
    "y = train.brain_volume\n",
    "\n",
    "# 2 degree polynomial & 15-degree polynomial\n",
    "poly2 = PolynomialFeatures(2)\n",
    "poly15 = PolynomialFeatures(70)\n",
    "X_2 = poly2.fit_transform(X)\n",
    "X_15 = poly15.fit_transform(X)"
   ]
  },
  {
   "cell_type": "markdown",
   "metadata": {},
   "source": [
    "## Fit 3 models\n",
    "\n",
    "* Linear regression\n",
    "* Quadratic regression with age squared term\n",
    "* 15-degree polynomial regression (with age^15th term)"
   ]
  },
  {
   "cell_type": "code",
   "execution_count": 6,
   "metadata": {},
   "outputs": [],
   "source": [
    "# set up a 'linear regression object'\n",
    "reg1 = linear_model.LinearRegression()\n",
    "reg2 = linear_model.LinearRegression()\n",
    "reg15 = linear_model.LinearRegression()\n",
    "\n",
    "\n",
    "# now FIT the linear regression model\n",
    "model1 = reg1.fit(X, y)\n",
    "model2 = reg2.fit(X_2, y)\n",
    "model15 = reg15.fit(X_15, y)\n",
    "\n",
    "# generate predictions for every x-value from the regression model\n",
    "model1_preds = reg1.predict(X)\n",
    "model2_preds = reg2.predict(X_2)\n",
    "model15_preds = reg15.predict(X_15)"
   ]
  },
  {
   "cell_type": "code",
   "execution_count": 7,
   "metadata": {},
   "outputs": [
    {
     "data": {
      "text/plain": [
       "[<matplotlib.lines.Line2D at 0x1247aff10>]"
      ]
     },
     "execution_count": 7,
     "metadata": {},
     "output_type": "execute_result"
    },
    {
     "data": {
      "image/png": "[encoded data removed]",
      "text/plain": [
       "<Figure size 432x288 with 1 Axes>"
      ]
     },
     "metadata": {
      "needs_background": "light"
     },
     "output_type": "display_data"
    }
   ],
   "source": [
    "plt.scatter(train.age, train.brain_volume, color = 'black')\n",
    "plt.plot(train.age, model1_preds, color = 'blue')\n",
    "plt.plot(train.age, model2_preds, color = 'green')\n",
    "plt.plot(train.age, model15_preds, color = 'purple', linewidth =3)"
   ]
  },
  {
   "cell_type": "code",
   "execution_count": 8,
   "metadata": {},
   "outputs": [
    {
     "name": "stdout",
     "output_type": "stream",
     "text": [
      "0.012288780577046188\n",
      "0.6140052651128557\n",
      "0.3237982935693635\n"
     ]
    }
   ],
   "source": [
    "print(r2_score(train.brain_volume, model1_preds))\n",
    "print(r2_score(train.brain_volume, model2_preds))\n",
    "print(r2_score(train.brain_volume, model15_preds))"
   ]
  },
  {
   "cell_type": "markdown",
   "metadata": {},
   "source": [
    "# Enter the 'new' data...."
   ]
  },
  {
   "cell_type": "code",
   "execution_count": 9,
   "metadata": {},
   "outputs": [],
   "source": [
    "# generating the x - matrices to use to predict outcomes on the new data\n",
    "X_test = test[['age']]\n",
    "X_test2 = poly2.fit_transform(X_test)\n",
    "X_test15 = poly15.fit_transform(X_test)"
   ]
  },
  {
   "cell_type": "markdown",
   "metadata": {},
   "source": [
    "### making *predictions* for brain volume for the test data WITHOUT fitting a model to it\n",
    "\n",
    "the models are only fit to the train data"
   ]
  },
  {
   "cell_type": "code",
   "execution_count": 10,
   "metadata": {},
   "outputs": [],
   "source": [
    "model1_preds_test = reg1.predict(X_test)\n",
    "model2_preds_test = reg2.predict(X_test2)\n",
    "model15_preds_test = reg15.predict(X_test15)"
   ]
  },
  {
   "cell_type": "code",
   "execution_count": 11,
   "metadata": {},
   "outputs": [
    {
     "data": {
      "text/plain": [
       "[<matplotlib.lines.Line2D at 0x1247d1fd0>]"
      ]
     },
     "execution_count": 11,
     "metadata": {},
     "output_type": "execute_result"
    },
    {
     "data": {
      "image/png": "[encoded data removed]",
      "text/plain": [
       "<Figure size 432x288 with 1 Axes>"
      ]
     },
     "metadata": {
      "needs_background": "light"
     },
     "output_type": "display_data"
    }
   ],
   "source": [
    "plt.scatter(test.age, test.brain_volume, color = 'black')\n",
    "plt.plot(test.age, model1_preds_test, color = 'blue')\n",
    "plt.plot(test.age, model2_preds_test, color = 'green')\n",
    "plt.plot(test.age, model15_preds_test, color = 'purple', linewidth =3)"
   ]
  },
  {
   "cell_type": "code",
   "execution_count": 12,
   "metadata": {},
   "outputs": [
    {
     "name": "stdout",
     "output_type": "stream",
     "text": [
      "0.02768153973988796\n",
      "0.5899212667901004\n",
      "0.23448384577063108\n"
     ]
    }
   ],
   "source": [
    "print(r2_score(test.brain_volume, model1_preds_test))\n",
    "print(r2_score(test.brain_volume, model2_preds_test))\n",
    "print(r2_score(test.brain_volume, model15_preds_test))"
   ]
  },
  {
   "cell_type": "markdown",
   "metadata": {},
   "source": [
    "# We look to performance on the test data for the optimum between underfitting & overfitting\n",
    "\n",
    "- we don't want to be too simple or too complex\n",
    "- balance can be hard to find\n",
    "\n",
    "http://mlwiki.org/index.php/Overfitting"
   ]
  },
  {
   "cell_type": "code",
   "execution_count": null,
   "metadata": {},
   "outputs": [],
   "source": []
  }
 ],
 "metadata": {
  "kernelspec": {
   "display_name": "Python 3",
   "language": "python",
   "name": "python3"
  },
  "language_info": {
   "codemirror_mode": {
    "name": "ipython",
    "version": 3
   },
   "file_extension": ".py",
   "mimetype": "text/x-python",
   "name": "python",
   "nbconvert_exporter": "python",
   "pygments_lexer": "ipython3",
   "version": "3.7.4"
  }
 },
 "nbformat": 4,
 "nbformat_minor": 4
}
